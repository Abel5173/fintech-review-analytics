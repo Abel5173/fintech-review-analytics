{
 "cells": [
  {
   "cell_type": "markdown",
   "id": "bd8fcc5a",
   "metadata": {},
   "source": [
    "# Markdown cell (not executable, for documentation)\n",
    "\n",
    "# Task 4: Insights and Recommendations for Fintech Apps\n",
    "\n",
    "This notebook orchestrates the analysis for Task 4 of the B5W2 challenge. It:\n",
    "- Connects to the Oracle database (bank_reviews) running on Docker to fetch review data.\n",
    "- Performs exploratory data analysis (EDA).\n",
    "- Uses modular scripts to analyze sentiments, derive insights, and generate visualizations.\n",
    "- Summarizes drivers, pain points, and recommendations for the final report."
   ]
  },
  {
   "cell_type": "markdown",
   "id": "0f6d0e1e",
   "metadata": {},
   "source": [
    "## Imports and Setup"
   ]
  },
  {
   "cell_type": "code",
   "execution_count": 1,
   "id": "dea7c5fc",
   "metadata": {},
   "outputs": [],
   "source": [
    "import os\n",
    "import sys\n",
    "import logging\n",
    "import pandas as pd\n",
    "\n",
    "project_root = os.path.abspath(os.path.join(os.getcwd(), '..'))\n",
    "sys.path.insert(0, project_root)"
   ]
  },
  {
   "cell_type": "code",
   "execution_count": 2,
   "id": "27d17227",
   "metadata": {},
   "outputs": [],
   "source": [
    "import pandas as pd\n",
    "import matplotlib.pyplot as plt\n",
    "import seaborn as sns\n",
    "import oracledb\n",
    "from scripts.insights_analysis.insights_analysis import compute_bank_comparison, identify_drivers_pain_points\n",
    "from scripts.insights_analysis.visualization import plot_sentiment_trends, plot_rating_distribution, plot_keyword_cloud, plot_sentiment_by_rating, plot_theme_distribution\n",
    "from dotenv import load_dotenv\n",
    "\n",
    "\n",
    "# Set plot style for consistency\n",
    "sns.set_theme()\n",
    "sns.set_palette('husl')"
   ]
  },
  {
   "cell_type": "code",
   "execution_count": 3,
   "id": "81bfda1b",
   "metadata": {},
   "outputs": [
    {
     "data": {
      "text/plain": [
       "Index(['review_id', 'review_text', 'rating', 'date', 'bank_name', 'source',\n",
       "       'processed_text', 'identified_theme'],\n",
       "      dtype='object')"
      ]
     },
     "execution_count": 3,
     "metadata": {},
     "output_type": "execute_result"
    }
   ],
   "source": [
    "df = pd.read_csv(\n",
    "    '/home/abel/Desktop/Projects/fintech-review-analytics/data/thematically_analyzed/bank_of_abyssinia_reviews_thematic_analysis.csv')\n",
    "df.columns"
   ]
  },
  {
   "cell_type": "markdown",
   "id": "e8eb1ef5",
   "metadata": {},
   "source": [
    "## Connect to Oracle Database and Load Data"
   ]
  },
  {
   "cell_type": "code",
   "execution_count": 5,
   "id": "0aa6c51f",
   "metadata": {},
   "outputs": [
    {
     "name": "stdout",
     "output_type": "stream",
     "text": [
      "Dataset Info:\n",
      "<class 'pandas.core.frame.DataFrame'>\n",
      "RangeIndex: 1200 entries, 0 to 1199\n",
      "Data columns (total 8 columns):\n",
      " #   Column            Non-Null Count  Dtype         \n",
      "---  ------            --------------  -----         \n",
      " 0   REVIEW_ID         1200 non-null   object        \n",
      " 1   REVIEW_TEXT       1200 non-null   object        \n",
      " 2   RATING            1200 non-null   int64         \n",
      " 3   REVIEW_DATE       1200 non-null   datetime64[ns]\n",
      " 4   BANK_NAME         1200 non-null   object        \n",
      " 5   SOURCE            1200 non-null   object        \n",
      " 6   PROCESSED_TEXT    1182 non-null   object        \n",
      " 7   IDENTIFIED_THEME  1200 non-null   object        \n",
      "dtypes: datetime64[ns](1), int64(1), object(6)\n",
      "memory usage: 75.1+ KB\n",
      "None\n",
      "\n",
      "Summary Statistics:\n",
      "              REVIEW_ID REVIEW_TEXT       RATING          REVIEW_DATE  \\\n",
      "count              1200        1200  1200.000000                 1200   \n",
      "unique             1200         809          NaN                  NaN   \n",
      "top     Dashen_Bank_383        good          NaN                  NaN   \n",
      "freq                  1          88          NaN                  NaN   \n",
      "mean                NaN         NaN     3.889167  2025-03-22 19:16:48   \n",
      "min                 NaN         NaN     1.000000  2024-07-16 00:00:00   \n",
      "25%                 NaN         NaN     3.000000  2025-03-06 18:00:00   \n",
      "50%                 NaN         NaN     5.000000  2025-04-21 00:00:00   \n",
      "75%                 NaN         NaN     5.000000  2025-05-22 00:00:00   \n",
      "max                 NaN         NaN     5.000000  2025-06-08 00:00:00   \n",
      "std                 NaN         NaN     1.596561                  NaN   \n",
      "\n",
      "                          BANK_NAME       SOURCE PROCESSED_TEXT  \\\n",
      "count                          1200         1200           1182   \n",
      "unique                            3            1            777   \n",
      "top     Commercial Bank of Ethiopia  Google Play           good   \n",
      "freq                            400         1200             90   \n",
      "mean                            NaN          NaN            NaN   \n",
      "min                             NaN          NaN            NaN   \n",
      "25%                             NaN          NaN            NaN   \n",
      "50%                             NaN          NaN            NaN   \n",
      "75%                             NaN          NaN            NaN   \n",
      "max                             NaN          NaN            NaN   \n",
      "std                             NaN          NaN            NaN   \n",
      "\n",
      "       IDENTIFIED_THEME  \n",
      "count              1200  \n",
      "unique                2  \n",
      "top               Other  \n",
      "freq                996  \n",
      "mean                NaN  \n",
      "min                 NaN  \n",
      "25%                 NaN  \n",
      "50%                 NaN  \n",
      "75%                 NaN  \n",
      "max                 NaN  \n",
      "std                 NaN  \n",
      "\n",
      "Missing Values:\n",
      "REVIEW_ID            0\n",
      "REVIEW_TEXT          0\n",
      "RATING               0\n",
      "REVIEW_DATE          0\n",
      "BANK_NAME            0\n",
      "SOURCE               0\n",
      "PROCESSED_TEXT      18\n",
      "IDENTIFIED_THEME     0\n",
      "dtype: int64\n",
      "                       REVIEW_ID                                REVIEW_TEXT  \\\n",
      "0  Commercial_Bank_of_Ethiopia_0                                    20 year   \n",
      "1  Commercial_Bank_of_Ethiopia_1        great app like carrying bank pocket   \n",
      "2  Commercial_Bank_of_Ethiopia_2                         garrantty bank ebc   \n",
      "3  Commercial_Bank_of_Ethiopia_3      really happy app siple use everything   \n",
      "4  Commercial_Bank_of_Ethiopia_4  liked app user interface basic attractive   \n",
      "\n",
      "   RATING REVIEW_DATE                    BANK_NAME       SOURCE  \\\n",
      "0       5  2025-06-08  Commercial Bank of Ethiopia  Google Play   \n",
      "1       4  2025-06-07  Commercial Bank of Ethiopia  Google Play   \n",
      "2       4  2025-06-07  Commercial Bank of Ethiopia  Google Play   \n",
      "3       5  2025-06-07  Commercial Bank of Ethiopia  Google Play   \n",
      "4       2  2025-06-07  Commercial Bank of Ethiopia  Google Play   \n",
      "\n",
      "                             PROCESSED_TEXT IDENTIFIED_THEME  \n",
      "0                                      year            Other  \n",
      "1          great app like carry bank pocket            Other  \n",
      "2                        garrantty bank ebc            Other  \n",
      "3                       happy app siple use            Other  \n",
      "4  like app user interface basic attractive            Other  \n"
     ]
    },
    {
     "name": "stderr",
     "output_type": "stream",
     "text": [
      "/tmp/ipykernel_179866/2766714556.py:17: UserWarning: pandas only supports SQLAlchemy connectable (engine/connection) or database string URI or sqlite3 DBAPI2 connection. Other DBAPI2 objects are not tested. Please consider using SQLAlchemy.\n",
      "  df = pd.read_sql(query, connection)\n",
      "/tmp/ipykernel_179866/2766714556.py:20: UserWarning: pandas only supports SQLAlchemy connectable (engine/connection) or database string URI or sqlite3 DBAPI2 connection. Other DBAPI2 objects are not tested. Please consider using SQLAlchemy.\n",
      "  df = pd.read_sql(query, connection)\n"
     ]
    }
   ],
   "source": [
    "load_dotenv()\n",
    "\n",
    "ORACLE_USER = os.getenv(\"ORACLE_USER\")\n",
    "ORACLE_PASSWORD = os.getenv(\"ORACLE_PASSWORD\")\n",
    "ORACLE_DSN = os.getenv(\"ORACLE_DSN\")\n",
    "\n",
    "# Database connection parameters (adjust as per your Docker setup)\n",
    "dsn = oracledb.makedsn(host='localhost', port=1521, service_name='XE')\n",
    "connection = oracledb.connect(\n",
    "    user=ORACLE_USER, password=ORACLE_PASSWORD, dsn=ORACLE_DSN)\n",
    "\n",
    "# Query to fetch review data\n",
    "query = \"\"\"\n",
    "SELECT review_id, review_text, rating, review_date, bank_name, source, processed_text, identified_theme\n",
    "FROM reviews\n",
    "\"\"\"\n",
    "df = pd.read_sql(query, connection)\n",
    "\n",
    "# Load data into DataFrame\n",
    "df = pd.read_sql(query, connection)\n",
    "\n",
    "# Close connection\n",
    "connection.close()\n",
    "\n",
    "# Basic EDA\n",
    "print('Dataset Info:')\n",
    "print(df.info())\n",
    "print('\\nSummary Statistics:')\n",
    "print(df.describe(include='all'))\n",
    "\n",
    "# Check for missing values\n",
    "print('\\nMissing Values:')\n",
    "print(df.isnull().sum())\n",
    "print(df.head())\n",
    "# Ensure date is in datetime format\n",
    "df.columns = [col.lower() for col in df.columns]\n",
    "df['review_date'] = pd.to_datetime(df['review_date'])"
   ]
  },
  {
   "cell_type": "markdown",
   "id": "0acf8d80",
   "metadata": {},
   "source": [
    "## Bank Comparison Analysis"
   ]
  },
  {
   "cell_type": "code",
   "execution_count": 7,
   "id": "9993e1e5",
   "metadata": {},
   "outputs": [
    {
     "ename": "KeyError",
     "evalue": "\"Column(s) ['sentiment_score'] do not exist\"",
     "output_type": "error",
     "traceback": [
      "\u001b[31m---------------------------------------------------------------------------\u001b[39m",
      "\u001b[31mKeyError\u001b[39m                                  Traceback (most recent call last)",
      "\u001b[36mCell\u001b[39m\u001b[36m \u001b[39m\u001b[32mIn[7]\u001b[39m\u001b[32m, line 8\u001b[39m\n\u001b[32m      5\u001b[39m \u001b[38;5;28;01mif\u001b[39;00m \u001b[33m'\u001b[39m\u001b[33mbank\u001b[39m\u001b[33m'\u001b[39m \u001b[38;5;129;01mnot\u001b[39;00m \u001b[38;5;129;01min\u001b[39;00m df.columns \u001b[38;5;129;01mand\u001b[39;00m \u001b[33m'\u001b[39m\u001b[33mbank_name\u001b[39m\u001b[33m'\u001b[39m \u001b[38;5;129;01min\u001b[39;00m df.columns:\n\u001b[32m      6\u001b[39m     df[\u001b[33m'\u001b[39m\u001b[33mbank\u001b[39m\u001b[33m'\u001b[39m] = df[\u001b[33m'\u001b[39m\u001b[33mbank_name\u001b[39m\u001b[33m'\u001b[39m]\n\u001b[32m----> \u001b[39m\u001b[32m8\u001b[39m bank_comparison = \u001b[43mcompute_bank_comparison\u001b[49m\u001b[43m(\u001b[49m\u001b[43mdf\u001b[49m\u001b[43m)\u001b[49m\n\u001b[32m      9\u001b[39m \u001b[38;5;28mprint\u001b[39m(\u001b[33m'\u001b[39m\u001b[38;5;130;01m\\n\u001b[39;00m\u001b[33mBank Comparison (Average Sentiment and Rating):\u001b[39m\u001b[33m'\u001b[39m)\n\u001b[32m     10\u001b[39m \u001b[38;5;28mprint\u001b[39m(bank_comparison)\n",
      "\u001b[36mFile \u001b[39m\u001b[32m~/Desktop/Projects/fintech-review-analytics/scripts/insights_analysis/insights_analysis.py:5\u001b[39m, in \u001b[36mcompute_bank_comparison\u001b[39m\u001b[34m(df)\u001b[39m\n\u001b[32m      4\u001b[39m \u001b[38;5;28;01mdef\u001b[39;00m\u001b[38;5;250m \u001b[39m\u001b[34mcompute_bank_comparison\u001b[39m(df):\n\u001b[32m----> \u001b[39m\u001b[32m5\u001b[39m     comparison = \u001b[43mdf\u001b[49m\u001b[43m.\u001b[49m\u001b[43mgroupby\u001b[49m\u001b[43m(\u001b[49m\u001b[33;43m'\u001b[39;49m\u001b[33;43mbank\u001b[39;49m\u001b[33;43m'\u001b[39;49m\u001b[43m)\u001b[49m\u001b[43m.\u001b[49m\u001b[43magg\u001b[49m\u001b[43m(\u001b[49m\u001b[43m{\u001b[49m\n\u001b[32m      6\u001b[39m \u001b[43m        \u001b[49m\u001b[33;43m'\u001b[39;49m\u001b[33;43msentiment_score\u001b[39;49m\u001b[33;43m'\u001b[39;49m\u001b[43m:\u001b[49m\u001b[43m \u001b[49m\u001b[33;43m'\u001b[39;49m\u001b[33;43mmean\u001b[39;49m\u001b[33;43m'\u001b[39;49m\u001b[43m,\u001b[49m\n\u001b[32m      7\u001b[39m \u001b[43m        \u001b[49m\u001b[33;43m'\u001b[39;49m\u001b[33;43mrating\u001b[39;49m\u001b[33;43m'\u001b[39;49m\u001b[43m:\u001b[49m\u001b[43m \u001b[49m\u001b[33;43m'\u001b[39;49m\u001b[33;43mmean\u001b[39;49m\u001b[33;43m'\u001b[39;49m\u001b[43m,\u001b[49m\n\u001b[32m      8\u001b[39m \u001b[43m        \u001b[49m\u001b[33;43m'\u001b[39;49m\u001b[33;43mreview_id\u001b[39;49m\u001b[33;43m'\u001b[39;49m\u001b[43m:\u001b[49m\u001b[43m \u001b[49m\u001b[33;43m'\u001b[39;49m\u001b[33;43mcount\u001b[39;49m\u001b[33;43m'\u001b[39;49m\n\u001b[32m      9\u001b[39m \u001b[43m    \u001b[49m\u001b[43m}\u001b[49m\u001b[43m)\u001b[49m.rename(columns={\u001b[33m'\u001b[39m\u001b[33mreview_id\u001b[39m\u001b[33m'\u001b[39m: \u001b[33m'\u001b[39m\u001b[33mreview_count\u001b[39m\u001b[33m'\u001b[39m}).reset_index()\n\u001b[32m     10\u001b[39m     comparison[\u001b[33m'\u001b[39m\u001b[33msentiment_score\u001b[39m\u001b[33m'\u001b[39m] = comparison[\u001b[33m'\u001b[39m\u001b[33msentiment_score\u001b[39m\u001b[33m'\u001b[39m].round(\u001b[32m3\u001b[39m)\n\u001b[32m     11\u001b[39m     comparison[\u001b[33m'\u001b[39m\u001b[33mrating\u001b[39m\u001b[33m'\u001b[39m] = comparison[\u001b[33m'\u001b[39m\u001b[33mrating\u001b[39m\u001b[33m'\u001b[39m].round(\u001b[32m2\u001b[39m)\n",
      "\u001b[36mFile \u001b[39m\u001b[32m~/Desktop/Projects/fintech-review-analytics/.venv/lib/python3.12/site-packages/pandas/core/groupby/generic.py:1432\u001b[39m, in \u001b[36mDataFrameGroupBy.aggregate\u001b[39m\u001b[34m(self, func, engine, engine_kwargs, *args, **kwargs)\u001b[39m\n\u001b[32m   1429\u001b[39m     kwargs[\u001b[33m\"\u001b[39m\u001b[33mengine_kwargs\u001b[39m\u001b[33m\"\u001b[39m] = engine_kwargs\n\u001b[32m   1431\u001b[39m op = GroupByApply(\u001b[38;5;28mself\u001b[39m, func, args=args, kwargs=kwargs)\n\u001b[32m-> \u001b[39m\u001b[32m1432\u001b[39m result = \u001b[43mop\u001b[49m\u001b[43m.\u001b[49m\u001b[43magg\u001b[49m\u001b[43m(\u001b[49m\u001b[43m)\u001b[49m\n\u001b[32m   1433\u001b[39m \u001b[38;5;28;01mif\u001b[39;00m \u001b[38;5;129;01mnot\u001b[39;00m is_dict_like(func) \u001b[38;5;129;01mand\u001b[39;00m result \u001b[38;5;129;01mis\u001b[39;00m \u001b[38;5;129;01mnot\u001b[39;00m \u001b[38;5;28;01mNone\u001b[39;00m:\n\u001b[32m   1434\u001b[39m     \u001b[38;5;66;03m# GH #52849\u001b[39;00m\n\u001b[32m   1435\u001b[39m     \u001b[38;5;28;01mif\u001b[39;00m \u001b[38;5;129;01mnot\u001b[39;00m \u001b[38;5;28mself\u001b[39m.as_index \u001b[38;5;129;01mand\u001b[39;00m is_list_like(func):\n",
      "\u001b[36mFile \u001b[39m\u001b[32m~/Desktop/Projects/fintech-review-analytics/.venv/lib/python3.12/site-packages/pandas/core/apply.py:190\u001b[39m, in \u001b[36mApply.agg\u001b[39m\u001b[34m(self)\u001b[39m\n\u001b[32m    187\u001b[39m     \u001b[38;5;28;01mreturn\u001b[39;00m \u001b[38;5;28mself\u001b[39m.apply_str()\n\u001b[32m    189\u001b[39m \u001b[38;5;28;01mif\u001b[39;00m is_dict_like(func):\n\u001b[32m--> \u001b[39m\u001b[32m190\u001b[39m     \u001b[38;5;28;01mreturn\u001b[39;00m \u001b[38;5;28;43mself\u001b[39;49m\u001b[43m.\u001b[49m\u001b[43magg_dict_like\u001b[49m\u001b[43m(\u001b[49m\u001b[43m)\u001b[49m\n\u001b[32m    191\u001b[39m \u001b[38;5;28;01melif\u001b[39;00m is_list_like(func):\n\u001b[32m    192\u001b[39m     \u001b[38;5;66;03m# we require a list, but not a 'str'\u001b[39;00m\n\u001b[32m    193\u001b[39m     \u001b[38;5;28;01mreturn\u001b[39;00m \u001b[38;5;28mself\u001b[39m.agg_list_like()\n",
      "\u001b[36mFile \u001b[39m\u001b[32m~/Desktop/Projects/fintech-review-analytics/.venv/lib/python3.12/site-packages/pandas/core/apply.py:423\u001b[39m, in \u001b[36mApply.agg_dict_like\u001b[39m\u001b[34m(self)\u001b[39m\n\u001b[32m    415\u001b[39m \u001b[38;5;28;01mdef\u001b[39;00m\u001b[38;5;250m \u001b[39m\u001b[34magg_dict_like\u001b[39m(\u001b[38;5;28mself\u001b[39m) -> DataFrame | Series:\n\u001b[32m    416\u001b[39m \u001b[38;5;250m    \u001b[39m\u001b[33;03m\"\"\"\u001b[39;00m\n\u001b[32m    417\u001b[39m \u001b[33;03m    Compute aggregation in the case of a dict-like argument.\u001b[39;00m\n\u001b[32m    418\u001b[39m \n\u001b[32m   (...)\u001b[39m\u001b[32m    421\u001b[39m \u001b[33;03m    Result of aggregation.\u001b[39;00m\n\u001b[32m    422\u001b[39m \u001b[33;03m    \"\"\"\u001b[39;00m\n\u001b[32m--> \u001b[39m\u001b[32m423\u001b[39m     \u001b[38;5;28;01mreturn\u001b[39;00m \u001b[38;5;28;43mself\u001b[39;49m\u001b[43m.\u001b[49m\u001b[43magg_or_apply_dict_like\u001b[49m\u001b[43m(\u001b[49m\u001b[43mop_name\u001b[49m\u001b[43m=\u001b[49m\u001b[33;43m\"\u001b[39;49m\u001b[33;43magg\u001b[39;49m\u001b[33;43m\"\u001b[39;49m\u001b[43m)\u001b[49m\n",
      "\u001b[36mFile \u001b[39m\u001b[32m~/Desktop/Projects/fintech-review-analytics/.venv/lib/python3.12/site-packages/pandas/core/apply.py:1603\u001b[39m, in \u001b[36mGroupByApply.agg_or_apply_dict_like\u001b[39m\u001b[34m(self, op_name)\u001b[39m\n\u001b[32m   1598\u001b[39m     kwargs.update({\u001b[33m\"\u001b[39m\u001b[33mengine\u001b[39m\u001b[33m\"\u001b[39m: engine, \u001b[33m\"\u001b[39m\u001b[33mengine_kwargs\u001b[39m\u001b[33m\"\u001b[39m: engine_kwargs})\n\u001b[32m   1600\u001b[39m \u001b[38;5;28;01mwith\u001b[39;00m com.temp_setattr(\n\u001b[32m   1601\u001b[39m     obj, \u001b[33m\"\u001b[39m\u001b[33mas_index\u001b[39m\u001b[33m\"\u001b[39m, \u001b[38;5;28;01mTrue\u001b[39;00m, condition=\u001b[38;5;28mhasattr\u001b[39m(obj, \u001b[33m\"\u001b[39m\u001b[33mas_index\u001b[39m\u001b[33m\"\u001b[39m)\n\u001b[32m   1602\u001b[39m ):\n\u001b[32m-> \u001b[39m\u001b[32m1603\u001b[39m     result_index, result_data = \u001b[38;5;28;43mself\u001b[39;49m\u001b[43m.\u001b[49m\u001b[43mcompute_dict_like\u001b[49m\u001b[43m(\u001b[49m\n\u001b[32m   1604\u001b[39m \u001b[43m        \u001b[49m\u001b[43mop_name\u001b[49m\u001b[43m,\u001b[49m\u001b[43m \u001b[49m\u001b[43mselected_obj\u001b[49m\u001b[43m,\u001b[49m\u001b[43m \u001b[49m\u001b[43mselection\u001b[49m\u001b[43m,\u001b[49m\u001b[43m \u001b[49m\u001b[43mkwargs\u001b[49m\n\u001b[32m   1605\u001b[39m \u001b[43m    \u001b[49m\u001b[43m)\u001b[49m\n\u001b[32m   1606\u001b[39m result = \u001b[38;5;28mself\u001b[39m.wrap_results_dict_like(selected_obj, result_index, result_data)\n\u001b[32m   1607\u001b[39m \u001b[38;5;28;01mreturn\u001b[39;00m result\n",
      "\u001b[36mFile \u001b[39m\u001b[32m~/Desktop/Projects/fintech-review-analytics/.venv/lib/python3.12/site-packages/pandas/core/apply.py:462\u001b[39m, in \u001b[36mApply.compute_dict_like\u001b[39m\u001b[34m(self, op_name, selected_obj, selection, kwargs)\u001b[39m\n\u001b[32m    460\u001b[39m is_groupby = \u001b[38;5;28misinstance\u001b[39m(obj, (DataFrameGroupBy, SeriesGroupBy))\n\u001b[32m    461\u001b[39m func = cast(AggFuncTypeDict, \u001b[38;5;28mself\u001b[39m.func)\n\u001b[32m--> \u001b[39m\u001b[32m462\u001b[39m func = \u001b[38;5;28;43mself\u001b[39;49m\u001b[43m.\u001b[49m\u001b[43mnormalize_dictlike_arg\u001b[49m\u001b[43m(\u001b[49m\u001b[43mop_name\u001b[49m\u001b[43m,\u001b[49m\u001b[43m \u001b[49m\u001b[43mselected_obj\u001b[49m\u001b[43m,\u001b[49m\u001b[43m \u001b[49m\u001b[43mfunc\u001b[49m\u001b[43m)\u001b[49m\n\u001b[32m    464\u001b[39m is_non_unique_col = (\n\u001b[32m    465\u001b[39m     selected_obj.ndim == \u001b[32m2\u001b[39m\n\u001b[32m    466\u001b[39m     \u001b[38;5;129;01mand\u001b[39;00m selected_obj.columns.nunique() < \u001b[38;5;28mlen\u001b[39m(selected_obj.columns)\n\u001b[32m    467\u001b[39m )\n\u001b[32m    469\u001b[39m \u001b[38;5;28;01mif\u001b[39;00m selected_obj.ndim == \u001b[32m1\u001b[39m:\n\u001b[32m    470\u001b[39m     \u001b[38;5;66;03m# key only used for output\u001b[39;00m\n",
      "\u001b[36mFile \u001b[39m\u001b[32m~/Desktop/Projects/fintech-review-analytics/.venv/lib/python3.12/site-packages/pandas/core/apply.py:663\u001b[39m, in \u001b[36mApply.normalize_dictlike_arg\u001b[39m\u001b[34m(self, how, obj, func)\u001b[39m\n\u001b[32m    661\u001b[39m     cols = Index(\u001b[38;5;28mlist\u001b[39m(func.keys())).difference(obj.columns, sort=\u001b[38;5;28;01mTrue\u001b[39;00m)\n\u001b[32m    662\u001b[39m     \u001b[38;5;28;01mif\u001b[39;00m \u001b[38;5;28mlen\u001b[39m(cols) > \u001b[32m0\u001b[39m:\n\u001b[32m--> \u001b[39m\u001b[32m663\u001b[39m         \u001b[38;5;28;01mraise\u001b[39;00m \u001b[38;5;167;01mKeyError\u001b[39;00m(\u001b[33mf\u001b[39m\u001b[33m\"\u001b[39m\u001b[33mColumn(s) \u001b[39m\u001b[38;5;132;01m{\u001b[39;00m\u001b[38;5;28mlist\u001b[39m(cols)\u001b[38;5;132;01m}\u001b[39;00m\u001b[33m do not exist\u001b[39m\u001b[33m\"\u001b[39m)\n\u001b[32m    665\u001b[39m aggregator_types = (\u001b[38;5;28mlist\u001b[39m, \u001b[38;5;28mtuple\u001b[39m, \u001b[38;5;28mdict\u001b[39m)\n\u001b[32m    667\u001b[39m \u001b[38;5;66;03m# if we have a dict of any non-scalars\u001b[39;00m\n\u001b[32m    668\u001b[39m \u001b[38;5;66;03m# eg. {'A' : ['mean']}, normalize all to\u001b[39;00m\n\u001b[32m    669\u001b[39m \u001b[38;5;66;03m# be list-likes\u001b[39;00m\n\u001b[32m    670\u001b[39m \u001b[38;5;66;03m# Cannot use func.values() because arg may be a Series\u001b[39;00m\n",
      "\u001b[31mKeyError\u001b[39m: \"Column(s) ['sentiment_score'] do not exist\""
     ]
    }
   ],
   "source": [
    "# Compute bank comparison (average sentiment and rating)\n",
    "os.makedirs('reports', exist_ok=True)\n",
    "\n",
    "# Ensure 'bank' column exists for compatibility with compute_bank_comparison\n",
    "if 'bank' not in df.columns and 'bank_name' in df.columns:\n",
    "    df['bank'] = df['bank_name']\n",
    "\n",
    "bank_comparison = compute_bank_comparison(df)\n",
    "print('\\nBank Comparison (Average Sentiment and Rating):')\n",
    "print(bank_comparison)\n",
    "# Save comparison for report\n",
    "bank_comparison.to_csv('reports/bank_comparison.csv', index=False)"
   ]
  },
  {
   "cell_type": "markdown",
   "id": "4d336cd1",
   "metadata": {},
   "source": [
    "## Drivers and Pain Points"
   ]
  },
  {
   "cell_type": "code",
   "execution_count": null,
   "id": "46011436",
   "metadata": {},
   "outputs": [
    {
     "ename": "KeyError",
     "evalue": "'identified_theme'",
     "output_type": "error",
     "traceback": [
      "\u001b[31m---------------------------------------------------------------------------\u001b[39m",
      "\u001b[31mKeyError\u001b[39m                                  Traceback (most recent call last)",
      "\u001b[36mFile \u001b[39m\u001b[32m~/Desktop/Projects/fintech-review-analytics/.venv/lib/python3.12/site-packages/pandas/core/indexes/base.py:3812\u001b[39m, in \u001b[36mIndex.get_loc\u001b[39m\u001b[34m(self, key)\u001b[39m\n\u001b[32m   3811\u001b[39m \u001b[38;5;28;01mtry\u001b[39;00m:\n\u001b[32m-> \u001b[39m\u001b[32m3812\u001b[39m     \u001b[38;5;28;01mreturn\u001b[39;00m \u001b[38;5;28;43mself\u001b[39;49m\u001b[43m.\u001b[49m\u001b[43m_engine\u001b[49m\u001b[43m.\u001b[49m\u001b[43mget_loc\u001b[49m\u001b[43m(\u001b[49m\u001b[43mcasted_key\u001b[49m\u001b[43m)\u001b[49m\n\u001b[32m   3813\u001b[39m \u001b[38;5;28;01mexcept\u001b[39;00m \u001b[38;5;167;01mKeyError\u001b[39;00m \u001b[38;5;28;01mas\u001b[39;00m err:\n",
      "\u001b[36mFile \u001b[39m\u001b[32mpandas/_libs/index.pyx:167\u001b[39m, in \u001b[36mpandas._libs.index.IndexEngine.get_loc\u001b[39m\u001b[34m()\u001b[39m\n",
      "\u001b[36mFile \u001b[39m\u001b[32mpandas/_libs/index.pyx:196\u001b[39m, in \u001b[36mpandas._libs.index.IndexEngine.get_loc\u001b[39m\u001b[34m()\u001b[39m\n",
      "\u001b[36mFile \u001b[39m\u001b[32mpandas/_libs/hashtable_class_helper.pxi:7088\u001b[39m, in \u001b[36mpandas._libs.hashtable.PyObjectHashTable.get_item\u001b[39m\u001b[34m()\u001b[39m\n",
      "\u001b[36mFile \u001b[39m\u001b[32mpandas/_libs/hashtable_class_helper.pxi:7096\u001b[39m, in \u001b[36mpandas._libs.hashtable.PyObjectHashTable.get_item\u001b[39m\u001b[34m()\u001b[39m\n",
      "\u001b[31mKeyError\u001b[39m: 'identified_theme'",
      "\nThe above exception was the direct cause of the following exception:\n",
      "\u001b[31mKeyError\u001b[39m                                  Traceback (most recent call last)",
      "\u001b[36mCell\u001b[39m\u001b[36m \u001b[39m\u001b[32mIn[5]\u001b[39m\u001b[32m, line 3\u001b[39m\n\u001b[32m      1\u001b[39m \u001b[38;5;66;03m# Identify drivers and pain points per bank\u001b[39;00m\n\u001b[32m      2\u001b[39m \u001b[38;5;28;01mimport\u001b[39;00m\u001b[38;5;250m \u001b[39m\u001b[34;01mjson\u001b[39;00m\n\u001b[32m----> \u001b[39m\u001b[32m3\u001b[39m drivers_pain_points = \u001b[43midentify_drivers_pain_points\u001b[49m\u001b[43m(\u001b[49m\u001b[43mdf\u001b[49m\u001b[43m)\u001b[49m\n\u001b[32m      4\u001b[39m \u001b[38;5;28mprint\u001b[39m(\u001b[33m'\u001b[39m\u001b[38;5;130;01m\\n\u001b[39;00m\u001b[33mDrivers and Pain Points:\u001b[39m\u001b[33m'\u001b[39m)\n\u001b[32m      5\u001b[39m \u001b[38;5;28;01mfor\u001b[39;00m bank, insights \u001b[38;5;129;01min\u001b[39;00m drivers_pain_points.items():\n",
      "\u001b[36mFile \u001b[39m\u001b[32m~/Desktop/Projects/fintech-review-analytics/scripts/insights_analysis/insights_analysis.py:24\u001b[39m, in \u001b[36midentify_drivers_pain_points\u001b[39m\u001b[34m(df)\u001b[39m\n\u001b[32m     21\u001b[39m \u001b[38;5;66;03m# Drivers: Top themes from positive sentiment reviews (rating >= 4)\u001b[39;00m\n\u001b[32m     22\u001b[39m positive_df = bank_df[(bank_df[\u001b[33m'\u001b[39m\u001b[33msentiment_label\u001b[39m\u001b[33m'\u001b[39m]\n\u001b[32m     23\u001b[39m                        == \u001b[33m'\u001b[39m\u001b[33mpositive\u001b[39m\u001b[33m'\u001b[39m) & (bank_df[\u001b[33m'\u001b[39m\u001b[33mrating\u001b[39m\u001b[33m'\u001b[39m] >= \u001b[32m4\u001b[39m)]\n\u001b[32m---> \u001b[39m\u001b[32m24\u001b[39m drivers = \u001b[43mpositive_df\u001b[49m\u001b[43m[\u001b[49m\u001b[33;43m'\u001b[39;49m\u001b[33;43midentified_theme\u001b[39;49m\u001b[33;43m'\u001b[39;49m\u001b[43m]\u001b[49m.value_counts().head(\n\u001b[32m     25\u001b[39m     \u001b[32m2\u001b[39m).index.tolist()\n\u001b[32m     26\u001b[39m \u001b[38;5;28;01mif\u001b[39;00m \u001b[38;5;129;01mnot\u001b[39;00m drivers:\n\u001b[32m     27\u001b[39m     drivers = [\u001b[33m'\u001b[39m\u001b[33mNone identified\u001b[39m\u001b[33m'\u001b[39m]  \u001b[38;5;66;03m# Fallback if no positive themes\u001b[39;00m\n",
      "\u001b[36mFile \u001b[39m\u001b[32m~/Desktop/Projects/fintech-review-analytics/.venv/lib/python3.12/site-packages/pandas/core/frame.py:4107\u001b[39m, in \u001b[36mDataFrame.__getitem__\u001b[39m\u001b[34m(self, key)\u001b[39m\n\u001b[32m   4105\u001b[39m \u001b[38;5;28;01mif\u001b[39;00m \u001b[38;5;28mself\u001b[39m.columns.nlevels > \u001b[32m1\u001b[39m:\n\u001b[32m   4106\u001b[39m     \u001b[38;5;28;01mreturn\u001b[39;00m \u001b[38;5;28mself\u001b[39m._getitem_multilevel(key)\n\u001b[32m-> \u001b[39m\u001b[32m4107\u001b[39m indexer = \u001b[38;5;28;43mself\u001b[39;49m\u001b[43m.\u001b[49m\u001b[43mcolumns\u001b[49m\u001b[43m.\u001b[49m\u001b[43mget_loc\u001b[49m\u001b[43m(\u001b[49m\u001b[43mkey\u001b[49m\u001b[43m)\u001b[49m\n\u001b[32m   4108\u001b[39m \u001b[38;5;28;01mif\u001b[39;00m is_integer(indexer):\n\u001b[32m   4109\u001b[39m     indexer = [indexer]\n",
      "\u001b[36mFile \u001b[39m\u001b[32m~/Desktop/Projects/fintech-review-analytics/.venv/lib/python3.12/site-packages/pandas/core/indexes/base.py:3819\u001b[39m, in \u001b[36mIndex.get_loc\u001b[39m\u001b[34m(self, key)\u001b[39m\n\u001b[32m   3814\u001b[39m     \u001b[38;5;28;01mif\u001b[39;00m \u001b[38;5;28misinstance\u001b[39m(casted_key, \u001b[38;5;28mslice\u001b[39m) \u001b[38;5;129;01mor\u001b[39;00m (\n\u001b[32m   3815\u001b[39m         \u001b[38;5;28misinstance\u001b[39m(casted_key, abc.Iterable)\n\u001b[32m   3816\u001b[39m         \u001b[38;5;129;01mand\u001b[39;00m \u001b[38;5;28many\u001b[39m(\u001b[38;5;28misinstance\u001b[39m(x, \u001b[38;5;28mslice\u001b[39m) \u001b[38;5;28;01mfor\u001b[39;00m x \u001b[38;5;129;01min\u001b[39;00m casted_key)\n\u001b[32m   3817\u001b[39m     ):\n\u001b[32m   3818\u001b[39m         \u001b[38;5;28;01mraise\u001b[39;00m InvalidIndexError(key)\n\u001b[32m-> \u001b[39m\u001b[32m3819\u001b[39m     \u001b[38;5;28;01mraise\u001b[39;00m \u001b[38;5;167;01mKeyError\u001b[39;00m(key) \u001b[38;5;28;01mfrom\u001b[39;00m\u001b[38;5;250m \u001b[39m\u001b[34;01merr\u001b[39;00m\n\u001b[32m   3820\u001b[39m \u001b[38;5;28;01mexcept\u001b[39;00m \u001b[38;5;167;01mTypeError\u001b[39;00m:\n\u001b[32m   3821\u001b[39m     \u001b[38;5;66;03m# If we have a listlike key, _check_indexing_error will raise\u001b[39;00m\n\u001b[32m   3822\u001b[39m     \u001b[38;5;66;03m#  InvalidIndexError. Otherwise we fall through and re-raise\u001b[39;00m\n\u001b[32m   3823\u001b[39m     \u001b[38;5;66;03m#  the TypeError.\u001b[39;00m\n\u001b[32m   3824\u001b[39m     \u001b[38;5;28mself\u001b[39m._check_indexing_error(key)\n",
      "\u001b[31mKeyError\u001b[39m: 'identified_theme'"
     ]
    }
   ],
   "source": [
    "# Identify drivers and pain points per bank\n",
    "import json\n",
    "drivers_pain_points = identify_drivers_pain_points(df)\n",
    "print('\\nDrivers and Pain Points:')\n",
    "for bank, insights in drivers_pain_points.items():\n",
    "    print(f'{bank}:')\n",
    "    print(f\"  Drivers: {insights['drivers']}\")\n",
    "    print(f\"  Pain Points: {insights['pain_points']}\")\n",
    "\n",
    "# Save insights as JSON for report\n",
    "with open('reports/drivers_pain_points.json', 'w') as f:\n",
    "    json.dump(drivers_pain_points, f, indent=2)"
   ]
  },
  {
   "cell_type": "markdown",
   "id": "7aeae85e",
   "metadata": {},
   "source": [
    "## Visualizations"
   ]
  },
  {
   "cell_type": "code",
   "execution_count": null,
   "id": "e444bf57",
   "metadata": {},
   "outputs": [],
   "source": [
    "# Generate and save visualizations\n",
    "plot_sentiment_trends(df, save_path='reports/sentiment_trends.png')\n",
    "plot_rating_distribution(df, save_path='reports/rating_distribution.png')\n",
    "plot_keyword_cloud(df, save_path='reports/keyword_cloud.png')\n",
    "plot_sentiment_by_rating(df, save_path='reports/sentiment_by_rating.png')\n",
    "plot_theme_distribution(df, save_path='reports/theme_distribution.png')\n",
    "\n",
    "# Display plots in notebook (optional, for verification)\n",
    "plt.figure(figsize=(12, 8))\n",
    "plot_sentiment_trends(df)\n",
    "plt.show()\n",
    "\n",
    "plt.figure(figsize=(12, 8))\n",
    "plot_rating_distribution(df)\n",
    "plt.show()\n",
    "\n",
    "plt.figure(figsize=(12, 8))\n",
    "plot_keyword_cloud(df)\n",
    "plt.show()\n",
    "\n",
    "plt.figure(figsize=(12, 8))\n",
    "plot_sentiment_by_rating(df)\n",
    "plt.show()\n",
    "\n",
    "plt.figure(figsize=(12, 8))\n",
    "plot_theme_distribution(df)\n",
    "plt.show()"
   ]
  },
  {
   "cell_type": "markdown",
   "id": "078f7ee2",
   "metadata": {},
   "source": [
    "## Recommendations"
   ]
  },
  {
   "cell_type": "code",
   "execution_count": null,
   "id": "fe27b1a0",
   "metadata": {},
   "outputs": [],
   "source": [
    "# Define recommendations based on insights\n",
    "recommendations = {\n",
    "    'Commercial Bank of Ethiopia': [\n",
    "        'Optimize app loading times during transfers to address slow performance.',\n",
    "        'Add budgeting tools to enhance user engagement and retention.'\n",
    "    ],\n",
    "    'Bank of Abyssinia': [\n",
    "        'Fix frequent login errors to improve user access and reduce frustration.',\n",
    "        'Enhance UI navigation for a more intuitive user experience.'\n",
    "    ],\n",
    "    'Dashen Bank': [\n",
    "        'Improve transaction speed for transfers to boost reliability.',\n",
    "        'Integrate fingerprint login for enhanced security and convenience.'\n",
    "    ]\n",
    "}\n",
    "\n",
    "# Print recommendations\n",
    "print('\\nRecommendations:')\n",
    "for bank, recs in recommendations.items():\n",
    "    print(f'{bank}:')\n",
    "    for rec in recs:\n",
    "        print(f'  - {rec}')\n",
    "\n",
    "# Save recommendations as JSON for report\n",
    "with open('reports/recommendations.json', 'w') as f:\n",
    "    json.dump(recommendations, f, indent=2)"
   ]
  }
 ],
 "metadata": {
  "kernelspec": {
   "display_name": ".venv",
   "language": "python",
   "name": "python3"
  },
  "language_info": {
   "codemirror_mode": {
    "name": "ipython",
    "version": 3
   },
   "file_extension": ".py",
   "mimetype": "text/x-python",
   "name": "python",
   "nbconvert_exporter": "python",
   "pygments_lexer": "ipython3",
   "version": "3.12.3"
  }
 },
 "nbformat": 4,
 "nbformat_minor": 5
}
