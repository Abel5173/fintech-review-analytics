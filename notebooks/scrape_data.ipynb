{
 "cells": [
  {
   "cell_type": "code",
   "execution_count": 1,
   "id": "6dd8087b",
   "metadata": {},
   "outputs": [],
   "source": [
    "import os\n",
    "import sys\n",
    "\n",
    "project_root = os.path.abspath(os.path.join(os.getcwd(), '..'))\n",
    "sys.path.insert(0, project_root)"
   ]
  },
  {
   "cell_type": "code",
   "execution_count": 2,
   "id": "3796f487",
   "metadata": {},
   "outputs": [
    {
     "name": "stderr",
     "output_type": "stream",
     "text": [
      "Processing Commercial Bank of Ethiopia reviews: 100%|██████████| 100/100 [00:00<00:00, 187748.61it/s]\n",
      "Processing Commercial Bank of Ethiopia reviews: 100%|██████████| 100/100 [00:00<00:00, 28345.64it/s]\n",
      "Processing Commercial Bank of Ethiopia reviews: 100%|██████████| 100/100 [00:00<00:00, 89756.13it/s]\n",
      "Processing Commercial Bank of Ethiopia reviews: 100%|██████████| 100/100 [00:00<00:00, 57260.12it/s]\n",
      "Processing Commercial Bank of Ethiopia reviews: 100%|██████████| 100/100 [00:00<00:00, 48182.70it/s]\n",
      "Processing Commercial Bank of Ethiopia reviews: 100%|██████████| 100/100 [00:00<00:00, 53855.98it/s]\n",
      "Processing Commercial Bank of Ethiopia reviews: 100%|██████████| 100/100 [00:00<00:00, 71943.46it/s]\n",
      "Processing Commercial Bank of Ethiopia reviews: 100%|██████████| 100/100 [00:00<00:00, 26817.80it/s]\n",
      "Processing Commercial Bank of Ethiopia reviews: 100%|██████████| 100/100 [00:00<00:00, 63358.07it/s]\n",
      "Processing Commercial Bank of Ethiopia reviews: 100%|██████████| 100/100 [00:00<00:00, 51150.05it/s]\n",
      "Processing Bank of Abyssinia reviews: 100%|██████████| 100/100 [00:00<00:00, 106698.14it/s]\n",
      "Processing Bank of Abyssinia reviews: 100%|██████████| 100/100 [00:00<00:00, 247597.64it/s]\n",
      "Processing Bank of Abyssinia reviews: 100%|██████████| 100/100 [00:00<00:00, 208775.71it/s]\n",
      "Processing Bank of Abyssinia reviews: 100%|██████████| 100/100 [00:00<00:00, 163456.90it/s]\n",
      "Processing Bank of Abyssinia reviews: 100%|██████████| 100/100 [00:00<00:00, 119291.92it/s]\n",
      "Processing Bank of Abyssinia reviews: 100%|██████████| 100/100 [00:00<00:00, 160332.72it/s]\n",
      "Processing Bank of Abyssinia reviews: 100%|██████████| 100/100 [00:00<00:00, 147375.40it/s]\n",
      "Processing Bank of Abyssinia reviews: 100%|██████████| 100/100 [00:00<00:00, 145534.49it/s]\n",
      "Processing Bank of Abyssinia reviews: 100%|██████████| 100/100 [00:00<00:00, 244708.52it/s]\n",
      "Processing Bank of Abyssinia reviews: 100%|██████████| 100/100 [00:00<00:00, 55509.58it/s]\n",
      "Processing Dashen Bank reviews: 100%|██████████| 100/100 [00:00<00:00, 31378.05it/s]\n",
      "Processing Dashen Bank reviews: 100%|██████████| 100/100 [00:00<00:00, 288070.33it/s]\n",
      "Processing Dashen Bank reviews: 100%|██████████| 100/100 [00:00<00:00, 89583.60it/s]\n",
      "Processing Dashen Bank reviews: 100%|██████████| 100/100 [00:00<00:00, 54106.09it/s]\n",
      "Processing Dashen Bank reviews: 100%|██████████| 50/50 [00:00<00:00, 81601.25it/s]\n"
     ]
    }
   ],
   "source": [
    "from scripts.scraping.scrape_reviews import scrape\n",
    "\n",
    "scrape()"
   ]
  },
  {
   "cell_type": "code",
   "execution_count": null,
   "id": "2fc4f9a6",
   "metadata": {},
   "outputs": [],
   "source": []
  }
 ],
 "metadata": {
  "kernelspec": {
   "display_name": ".venv",
   "language": "python",
   "name": "python3"
  },
  "language_info": {
   "codemirror_mode": {
    "name": "ipython",
    "version": 3
   },
   "file_extension": ".py",
   "mimetype": "text/x-python",
   "name": "python",
   "nbconvert_exporter": "python",
   "pygments_lexer": "ipython3",
   "version": "3.12.3"
  }
 },
 "nbformat": 4,
 "nbformat_minor": 5
}
