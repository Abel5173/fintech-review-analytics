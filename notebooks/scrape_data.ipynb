{
 "cells": [
  {
   "cell_type": "code",
   "execution_count": 1,
   "id": "6dd8087b",
   "metadata": {},
   "outputs": [],
   "source": [
    "import os\n",
    "import sys\n",
    "\n",
    "project_root = os.path.abspath(os.path.join(os.getcwd(), '..'))\n",
    "sys.path.insert(0, project_root)"
   ]
  },
  {
   "cell_type": "code",
   "execution_count": 2,
   "id": "3796f487",
   "metadata": {},
   "outputs": [
    {
     "name": "stderr",
     "output_type": "stream",
     "text": [
      "Processing Commercial Bank of Ethiopia reviews: 100%|██████████| 400/400 [00:00<00:00, 210451.78it/s]\n",
      "Processing Bank of Abyssinia reviews: 100%|██████████| 400/400 [00:00<00:00, 378035.51it/s]\n",
      "Processing Dashen Bank reviews: 100%|██████████| 400/400 [00:00<00:00, 608752.39it/s]\n"
     ]
    }
   ],
   "source": [
    "from scripts.scraping.scrape_reviews import scrape\n",
    "\n",
    "scrape()"
   ]
  },
  {
   "cell_type": "code",
   "execution_count": 4,
   "id": "2fc4f9a6",
   "metadata": {},
   "outputs": [],
   "source": []
  }
 ],
 "metadata": {
  "kernelspec": {
   "display_name": ".venv",
   "language": "python",
   "name": "python3"
  },
  "language_info": {
   "codemirror_mode": {
    "name": "ipython",
    "version": 3
   },
   "file_extension": ".py",
   "mimetype": "text/x-python",
   "name": "python",
   "nbconvert_exporter": "python",
   "pygments_lexer": "ipython3",
   "version": "3.12.3"
  }
 },
 "nbformat": 4,
 "nbformat_minor": 5
}
